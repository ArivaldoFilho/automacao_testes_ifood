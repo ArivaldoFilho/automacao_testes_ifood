{
 "cells": [
  {
   "cell_type": "markdown",
   "metadata": {},
   "source": [
    "### Teste do número do endereço"
   ]
  },
  {
   "cell_type": "code",
   "execution_count": 4,
   "metadata": {},
   "outputs": [],
   "source": [
    "from selenium import webdriver\n",
    "from selenium.webdriver.chrome.service import Service\n",
    "from selenium.webdriver.common.by import By\n",
    "from selenium.webdriver.common.keys import Keys\n",
    "import time\n",
    "\n",
    "service = Service(executable_path=r\"C:\\Users\\ariva\\Documents\\Projetos\\automacao_testes_ifood\\drivers\\chromedriver.exe\")\n",
    "driver = webdriver.Chrome(service=service)"
   ]
  },
  {
   "cell_type": "code",
   "execution_count": 5,
   "metadata": {},
   "outputs": [],
   "source": [
    "driver.maximize_window()\n",
    "\n",
    "driver.get(\"https://www.ifood.com.br/\")\n",
    "\n",
    "time.sleep(5)\n",
    "\n",
    "click_input_endereco = driver.find_element(By.CLASS_NAME, \"landing-groceries-header__input\")\n",
    "click_input_endereco.click()\n",
    "\n",
    "time.sleep(5)\n",
    "\n",
    "input_endereco = driver.find_element(By.CLASS_NAME, \"address-search-input__button\")\n",
    "input_endereco.send_keys(\" number one flat\")\n",
    "\n",
    "time.sleep(5)\n",
    "\n",
    "input_element = driver.find_element(By.XPATH, \"/html/body/div[4]/div/div/div/div/div/div[2]/div/div[1]/div[3]/ul/li[1]/div/button\")\n",
    "time.sleep(5)\n",
    "input_element.click()\n",
    "\n",
    "time.sleep(5)\n"
   ]
  },
  {
   "cell_type": "code",
   "execution_count": 6,
   "metadata": {},
   "outputs": [],
   "source": [
    "time.sleep(5)\n",
    "\n",
    "input_numero_endereco = driver.find_element(By.CLASS_NAME, \"form-input__field\")\n",
    "input_numero_endereco.send_keys(\"TESTE\")"
   ]
  },
  {
   "cell_type": "code",
   "execution_count": 7,
   "metadata": {},
   "outputs": [],
   "source": [
    "time.sleep(5)\n",
    "\n",
    "botao_buscar_com_numero = driver.find_element(By.XPATH, \"/html/body/div[4]/div/div/div/div/div/div[2]/div/div[3]/div/form/button\")\n",
    "botao_buscar_com_numero.click()"
   ]
  }
 ],
 "metadata": {
  "kernelspec": {
   "display_name": "venv",
   "language": "python",
   "name": "python3"
  },
  "language_info": {
   "codemirror_mode": {
    "name": "ipython",
    "version": 3
   },
   "file_extension": ".py",
   "mimetype": "text/x-python",
   "name": "python",
   "nbconvert_exporter": "python",
   "pygments_lexer": "ipython3",
   "version": "3.12.0"
  }
 },
 "nbformat": 4,
 "nbformat_minor": 2
}
