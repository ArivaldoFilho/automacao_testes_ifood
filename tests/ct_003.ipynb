{
 "cells": [
  {
   "cell_type": "markdown",
   "metadata": {},
   "source": [
    "### Teste para verificar as categorias disponíveis"
   ]
  },
  {
   "cell_type": "code",
   "execution_count": 3,
   "metadata": {},
   "outputs": [],
   "source": [
    "from selenium import webdriver\n",
    "from selenium.webdriver.chrome.service import Service\n",
    "from selenium.webdriver.common.by import By\n",
    "from selenium.webdriver.common.keys import Keys\n",
    "import time\n",
    "\n",
    "service = Service(executable_path=r\"C:\\Users\\ariva\\Documents\\Projetos\\automacao_testes_ifood\\drivers\\chromedriver.exe\")\n",
    "driver = webdriver.Chrome(service=service)"
   ]
  },
  {
   "cell_type": "code",
   "execution_count": 4,
   "metadata": {},
   "outputs": [],
   "source": [
    "driver.maximize_window()\n",
    "\n",
    "driver.get(\"https://www.ifood.com.br/\")\n",
    "\n",
    "time.sleep(5)\n",
    "\n",
    "click_input_endereco = driver.find_element(By.CLASS_NAME, \"landing-groceries-header__input\")\n",
    "click_input_endereco.click()\n",
    "\n",
    "time.sleep(2)\n",
    "\n",
    "input_endereco = driver.find_element(By.CLASS_NAME, \"address-search-input__button\")\n",
    "input_endereco.send_keys(\" number one flat\")\n",
    "\n",
    "time.sleep(2)\n",
    "\n",
    "input_element = driver.find_element(By.XPATH, \"/html/body/div[4]/div/div/div/div/div/div[2]/div/div[1]/div[3]/ul/li[1]/div/button\")\n",
    "time.sleep(5)\n",
    "input_element.click()\n",
    "\n",
    "time.sleep(2)\n",
    "\n",
    "checkbox = driver.find_element(By.ID, \"addressEmptyNumber\")\n",
    "checkbox.click()\n",
    "\n",
    "time.sleep(2)\n",
    "\n",
    "botao_buscar_sem_numero = driver.find_element(By.XPATH, \"/html/body/div[4]/div/div/div/div/div/div[2]/div/div[3]/div/form/button\")\n",
    "botao_buscar_sem_numero.click()\n",
    "\n",
    "time.sleep(2)\n",
    "\n",
    "botao_confirmar_localizacao = driver.find_element(By.XPATH, \"/html/body/div[4]/div/div/div/div/div/div[3]/div[2]/button\")\n",
    "botao_confirmar_localizacao.click()\n",
    "\n",
    "time.sleep(2)\n",
    "\n",
    "botao_salvar_endereco = driver.find_element(By.XPATH, \"/html/body/div[4]/div/div/div/div/div/div[3]/div[1]/div[2]/form/div[4]/button\")\n",
    "botao_salvar_endereco.click()\n",
    "\n",
    "time.sleep(2)"
   ]
  },
  {
   "cell_type": "code",
   "execution_count": 5,
   "metadata": {},
   "outputs": [],
   "source": [
    "click_restaurantes = driver.find_element(By.XPATH, \"//*[@id='__next']/div[1]/header/nav/div[2]/ul/li[2]/a\")\n",
    "click_restaurantes.click()"
   ]
  },
  {
   "cell_type": "code",
   "execution_count": 6,
   "metadata": {},
   "outputs": [],
   "source": [
    "time.sleep(5)\n",
    "\n",
    "click_filtros = driver.find_element(By.XPATH, \"//*[@id='__next']/div[1]/main/div/div[2]/section/ul/li[7]/button\")\n",
    "click_filtros.click()"
   ]
  },
  {
   "cell_type": "code",
   "execution_count": 7,
   "metadata": {},
   "outputs": [],
   "source": [
    "time.sleep(2)\n",
    "\n",
    "click_categorias = driver.find_element(By.XPATH, \"/html/body/div[10]/div/div/div/div/section/div[2]/nav/a[2]\")\n",
    "click_categorias.click()"
   ]
  },
  {
   "cell_type": "code",
   "execution_count": 8,
   "metadata": {},
   "outputs": [],
   "source": [
    "time.sleep(10)\n",
    "\n",
    "driver.quit()   "
   ]
  }
 ],
 "metadata": {
  "kernelspec": {
   "display_name": "venv",
   "language": "python",
   "name": "python3"
  },
  "language_info": {
   "codemirror_mode": {
    "name": "ipython",
    "version": 3
   },
   "file_extension": ".py",
   "mimetype": "text/x-python",
   "name": "python",
   "nbconvert_exporter": "python",
   "pygments_lexer": "ipython3",
   "version": "3.12.0"
  }
 },
 "nbformat": 4,
 "nbformat_minor": 2
}
