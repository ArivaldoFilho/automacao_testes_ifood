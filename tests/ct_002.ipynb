{
 "cells": [
  {
   "cell_type": "markdown",
   "metadata": {},
   "source": [
    "### Teste da adição de itens a sacola"
   ]
  },
  {
   "cell_type": "code",
   "execution_count": 2,
   "metadata": {},
   "outputs": [],
   "source": [
    "from selenium import webdriver\n",
    "from selenium.webdriver.chrome.service import Service\n",
    "from selenium.webdriver.common.by import By\n",
    "from selenium.webdriver.common.keys import Keys\n",
    "import time\n",
    "\n",
    "service = Service(executable_path=r\"C:\\Users\\ariva\\Documents\\Projetos\\automacao_testes_ifood\\drivers\\chromedriver.exe\")\n",
    "driver = webdriver.Chrome(service=service)"
   ]
  },
  {
   "cell_type": "code",
   "execution_count": 3,
   "metadata": {},
   "outputs": [],
   "source": [
    "driver.maximize_window()\n",
    "\n",
    "driver.get(\"https://www.ifood.com.br/\")\n",
    "\n",
    "time.sleep(5)\n",
    "\n",
    "click_input_endereco = driver.find_element(By.CLASS_NAME, \"landing-groceries-header__input\")\n",
    "click_input_endereco.click()\n",
    "\n",
    "time.sleep(2)\n",
    "\n",
    "input_endereco = driver.find_element(By.CLASS_NAME, \"address-search-input__button\")\n",
    "input_endereco.send_keys(\" number one flat\")\n",
    "\n",
    "time.sleep(2)\n",
    "\n",
    "input_element = driver.find_element(By.XPATH, \"/html/body/div[4]/div/div/div/div/div/div[2]/div/div[1]/div[3]/ul/li[1]/div/button\")\n",
    "time.sleep(5)\n",
    "input_element.click()\n",
    "\n",
    "time.sleep(2)\n",
    "\n",
    "checkbox = driver.find_element(By.ID, \"addressEmptyNumber\")\n",
    "checkbox.click()\n",
    "\n",
    "time.sleep(2)\n",
    "\n",
    "botao_buscar_sem_numero = driver.find_element(By.XPATH, \"/html/body/div[4]/div/div/div/div/div/div[2]/div/div[3]/div/form/button\")\n",
    "botao_buscar_sem_numero.click()\n",
    "\n",
    "time.sleep(2)\n",
    "\n",
    "botao_confirmar_localizacao = driver.find_element(By.XPATH, \"/html/body/div[4]/div/div/div/div/div/div[3]/div[2]/button\")\n",
    "botao_confirmar_localizacao.click()\n",
    "\n",
    "time.sleep(2)\n",
    "\n",
    "botao_salvar_endereco = driver.find_element(By.XPATH, \"/html/body/div[4]/div/div/div/div/div/div[3]/div[1]/div[2]/form/div[4]/button\")\n",
    "botao_salvar_endereco.click()\n",
    "\n",
    "time.sleep(2)\n"
   ]
  },
  {
   "cell_type": "code",
   "execution_count": null,
   "metadata": {},
   "outputs": [],
   "source": [
    "click_input_pesquisa_loja = driver.find_element(By.CLASS_NAME, \"search-input__field\")\n",
    "click_input_pesquisa_loja.send_keys(\" MCdonalds\")\n",
    "\n",
    "\n",
    "enter_input_pesquisa_loja = driver.find_element(By.CLASS_NAME, \"search-input__field\")\n",
    "enter_input_pesquisa_loja.send_keys(Keys.RETURN)"
   ]
  },
  {
   "cell_type": "code",
   "execution_count": 4,
   "metadata": {},
   "outputs": [],
   "source": [
    "time.sleep(5)\n",
    "\n",
    "click_mcdonalds = driver.find_element(By.CLASS_NAME, \"merchant-v2\")\n",
    "click_mcdonalds.click()"
   ]
  },
  {
   "cell_type": "code",
   "execution_count": 5,
   "metadata": {},
   "outputs": [],
   "source": [
    "time.sleep(5)\n",
    "\n",
    "pesquisar_no_cardapio = driver.find_element(By.CLASS_NAME, \"restaurant-menu-search__field\")\n",
    "pesquisar_no_cardapio.send_keys(\"Big Mac\")"
   ]
  },
  {
   "cell_type": "code",
   "execution_count": 6,
   "metadata": {},
   "outputs": [],
   "source": [
    "time.sleep(5)\n",
    "\n",
    "enter_pesquisar_no_cardapio = driver.find_element(By.CLASS_NAME, \"restaurant-menu-search__field\")\n",
    "enter_pesquisar_no_cardapio.send_keys(Keys.ENTER)"
   ]
  },
  {
   "cell_type": "code",
   "execution_count": 7,
   "metadata": {},
   "outputs": [],
   "source": [
    "time.sleep(5)\n",
    "\n",
    "click_big_mac = driver.find_element(By.XPATH, \"//*[@id='__next']/div[1]/main/div[1]/div/div[2]/div/div[7]/ul/li/div/a\")\n",
    "click_big_mac.click()"
   ]
  },
  {
   "cell_type": "code",
   "execution_count": 8,
   "metadata": {},
   "outputs": [],
   "source": [
    "time.sleep(5)\n",
    "\n",
    "click_botao_adicionar = driver.find_element(By.CLASS_NAME, \"dish-action__add-button\")\n",
    "click_botao_adicionar.click()"
   ]
  },
  {
   "cell_type": "code",
   "execution_count": 9,
   "metadata": {},
   "outputs": [],
   "source": [
    "time.sleep(10)\n",
    "\n",
    "driver.quit()"
   ]
  }
 ],
 "metadata": {
  "kernelspec": {
   "display_name": "venv",
   "language": "python",
   "name": "python3"
  },
  "language_info": {
   "codemirror_mode": {
    "name": "ipython",
    "version": 3
   },
   "file_extension": ".py",
   "mimetype": "text/x-python",
   "name": "python",
   "nbconvert_exporter": "python",
   "pygments_lexer": "ipython3",
   "version": "3.12.0"
  }
 },
 "nbformat": 4,
 "nbformat_minor": 2
}
