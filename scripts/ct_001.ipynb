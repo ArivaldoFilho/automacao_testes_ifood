{
 "cells": [
  {
   "cell_type": "code",
   "execution_count": 16,
   "metadata": {},
   "outputs": [],
   "source": [
    "from selenium import webdriver\n",
    "from selenium.webdriver.chrome.service import Service\n",
    "from selenium.webdriver.common.by import By\n",
    "from selenium.webdriver.common.keys import Keys\n",
    "import time\n",
    "\n",
    "service = Service(executable_path=\"chromedriver.exe\")\n",
    "driver = webdriver.Chrome(service=service)"
   ]
  },
  {
   "cell_type": "code",
   "execution_count": 17,
   "metadata": {},
   "outputs": [],
   "source": [
    "driver.maximize_window()\n",
    "\n",
    "driver.get(\"https://www.ifood.com.br/\")\n",
    "\n",
    "time.sleep(5)\n",
    "\n",
    "#click na caixa para realizar o input do endereço\n",
    "click_input_endereco = driver.find_element(By.CLASS_NAME, \"landing-groceries-header__input\")\n",
    "click_input_endereco.click()\n",
    "\n",
    "time.sleep(5)\n",
    "\n",
    "#escrita do endereço\n",
    "input_endereco = driver.find_element(By.CLASS_NAME, \"address-search-input__button\")\n",
    "input_endereco.send_keys(\" number one flat\")\n",
    "\n",
    "time.sleep(5)\n",
    "\n",
    "#click no endereço encontrado\n",
    "input_element = driver.find_element(By.XPATH, \"/html/body/div[4]/div/div/div/div/div/div[2]/div/div[1]/div[3]/ul/li[1]/div/button\")\n",
    "time.sleep(5)\n",
    "input_element.click()\n",
    "\n",
    "time.sleep(5)\n",
    "\n",
    "#click na caixa indicando que é um endereço sem número\n",
    "checkbox = driver.find_element(By.ID, \"addressEmptyNumber\")\n",
    "checkbox.click()\n",
    "\n",
    "time.sleep(5)\n",
    "\n",
    "#click no botão para realizar a pesquisa sem nome\n",
    "botao_buscar_sem_numero = driver.find_element(By.XPATH, \"/html/body/div[4]/div/div/div/div/div/div[2]/div/div[3]/div/form/button\")\n",
    "botao_buscar_sem_numero.click()\n",
    "\n",
    "time.sleep(5)\n",
    "\n",
    "#Click no botão para confirmar a localização retornada pelo site\n",
    "botao_confirmar_localizacao = driver.find_element(By.XPATH, \"/html/body/div[4]/div/div/div/div/div/div[3]/div[2]/button\")\n",
    "botao_confirmar_localizacao.click()\n",
    "\n",
    "time.sleep(5)\n",
    "\n",
    "#Click no botão para salvar o endereço\n",
    "botao_salvar_endereco = driver.find_element(By.XPATH, \"/html/body/div[4]/div/div/div/div/div/div[3]/div[1]/div[2]/form/div[4]/button\")\n",
    "botao_salvar_endereco.click()\n",
    "\n",
    "time.sleep(5)\n",
    "\n",
    "#clicar em restaurantes\n",
    "clicar_restaurantes = driver.find_element(By.XPATH, \"//*[@id='__next']/div[1]/header/nav/div[2]/ul/li[2]/a\")\n",
    "clicar_restaurantes.click()\n",
    "\n",
    "time.sleep(10)\n",
    "\n",
    "driver.quit()"
   ]
  },
  {
   "cell_type": "code",
   "execution_count": null,
   "metadata": {},
   "outputs": [],
   "source": []
  }
 ],
 "metadata": {
  "kernelspec": {
   "display_name": "Python 3",
   "language": "python",
   "name": "python3"
  },
  "language_info": {
   "codemirror_mode": {
    "name": "ipython",
    "version": 3
   },
   "file_extension": ".py",
   "mimetype": "text/x-python",
   "name": "python",
   "nbconvert_exporter": "python",
   "pygments_lexer": "ipython3",
   "version": "3.12.0"
  }
 },
 "nbformat": 4,
 "nbformat_minor": 2
}
