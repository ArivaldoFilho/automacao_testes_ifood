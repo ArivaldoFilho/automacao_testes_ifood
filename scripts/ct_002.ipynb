{
 "cells": [
  {
   "cell_type": "code",
   "execution_count": 13,
   "metadata": {},
   "outputs": [],
   "source": [
    "from selenium import webdriver\n",
    "from selenium.webdriver.chrome.service import Service\n",
    "from selenium.webdriver.common.by import By\n",
    "from selenium.webdriver.common.keys import Keys\n",
    "import time\n",
    "\n",
    "service = Service(executable_path=r\"C:\\Users\\ariva\\Documents\\Projetos\\testes_selenium_faculdade\\config\\chromedriver.exe\")\n",
    "driver = webdriver.Chrome(service=service)"
   ]
  },
  {
   "cell_type": "code",
   "execution_count": 14,
   "metadata": {},
   "outputs": [],
   "source": [
    "driver.maximize_window()\n",
    "\n",
    "driver.get(\"https://www.ifood.com.br/\")\n",
    "\n",
    "time.sleep(5)\n",
    "\n",
    "click_input_endereco = driver.find_element(By.CLASS_NAME, \"landing-groceries-header__input\")\n",
    "click_input_endereco.click()\n",
    "\n",
    "time.sleep(5)\n",
    "\n",
    "input_endereco = driver.find_element(By.CLASS_NAME, \"address-search-input__button\")\n",
    "input_endereco.send_keys(\" number one flat\")\n",
    "\n",
    "time.sleep(5)\n",
    "\n",
    "input_element = driver.find_element(By.XPATH, \"/html/body/div[4]/div/div/div/div/div/div[2]/div/div[1]/div[3]/ul/li[1]/div/button\")\n",
    "time.sleep(5)\n",
    "input_element.click()\n",
    "\n",
    "time.sleep(5)\n",
    "\n",
    "checkbox = driver.find_element(By.ID, \"addressEmptyNumber\")\n",
    "checkbox.click()\n",
    "\n",
    "time.sleep(5)\n",
    "\n",
    "botao_buscar_sem_numero = driver.find_element(By.XPATH, \"/html/body/div[4]/div/div/div/div/div/div[2]/div/div[3]/div/form/button\")\n",
    "botao_buscar_sem_numero.click()\n",
    "\n",
    "time.sleep(5)\n",
    "\n",
    "botao_confirmar_localizacao = driver.find_element(By.XPATH, \"/html/body/div[4]/div/div/div/div/div/div[3]/div[2]/button\")\n",
    "botao_confirmar_localizacao.click()\n",
    "\n",
    "time.sleep(5)\n",
    "\n",
    "botao_salvar_endereco = driver.find_element(By.XPATH, \"/html/body/div[4]/div/div/div/div/div/div[3]/div[1]/div[2]/form/div[4]/button\")\n",
    "botao_salvar_endereco.click()\n",
    "\n",
    "time.sleep(5)\n",
    "\n",
    "\n",
    "click_input_pesquisa_loja = driver.find_element(By.CLASS_NAME, \"search-input__field\")\n",
    "click_input_pesquisa_loja.send_keys(\" MCdonalds\")\n",
    "\n",
    "\n",
    "enter_input_pesquisa_loja = driver.find_element(By.CLASS_NAME, \"search-input__field\")\n",
    "enter_input_pesquisa_loja.send_keys(Keys.RETURN)\n"
   ]
  },
  {
   "cell_type": "code",
   "execution_count": 15,
   "metadata": {},
   "outputs": [],
   "source": [
    "time.sleep(5)\n",
    "\n",
    "click_mcdonalds = driver.find_element(By.CLASS_NAME, \"merchant-v2\")\n",
    "click_mcdonalds.click()"
   ]
  },
  {
   "cell_type": "code",
   "execution_count": 16,
   "metadata": {},
   "outputs": [],
   "source": [
    "time.sleep(5)\n",
    "\n",
    "pesquisar_no_cardapio = driver.find_element(By.CLASS_NAME, \"restaurant-menu-search__field\")\n",
    "pesquisar_no_cardapio.send_keys(\"Big Mac\")"
   ]
  },
  {
   "cell_type": "code",
   "execution_count": 17,
   "metadata": {},
   "outputs": [],
   "source": [
    "time.sleep(5)\n",
    "\n",
    "enter_pesquisar_no_cardapio = driver.find_element(By.CLASS_NAME, \"restaurant-menu-search__field\")\n",
    "enter_pesquisar_no_cardapio.send_keys(Keys.ENTER)"
   ]
  },
  {
   "cell_type": "code",
   "execution_count": 18,
   "metadata": {},
   "outputs": [
    {
     "ename": "NoSuchElementException",
     "evalue": "Message: no such element: Unable to locate element: {\"method\":\"xpath\",\"selector\":\"//*[@id='__next']/div[1]/main/div[1]/div/div[2]/div/div[7]/ul/li/div/a\"}\n  (Session info: chrome=128.0.6613.120); For documentation on this error, please visit: https://www.selenium.dev/documentation/webdriver/troubleshooting/errors#no-such-element-exception\nStacktrace:\n\tGetHandleVerifier [0x00007FF75421B5D2+29090]\n\t(No symbol) [0x00007FF75418E689]\n\t(No symbol) [0x00007FF75404B1CA]\n\t(No symbol) [0x00007FF75409EFD7]\n\t(No symbol) [0x00007FF75409F22C]\n\t(No symbol) [0x00007FF7540E97F7]\n\t(No symbol) [0x00007FF7540C672F]\n\t(No symbol) [0x00007FF7540E65D9]\n\t(No symbol) [0x00007FF7540C6493]\n\t(No symbol) [0x00007FF7540909B1]\n\t(No symbol) [0x00007FF754091B11]\n\tGetHandleVerifier [0x00007FF754538C5D+3295277]\n\tGetHandleVerifier [0x00007FF754584843+3605523]\n\tGetHandleVerifier [0x00007FF75457A707+3564247]\n\tGetHandleVerifier [0x00007FF7542D6EB6+797318]\n\t(No symbol) [0x00007FF75419980F]\n\t(No symbol) [0x00007FF7541953F4]\n\t(No symbol) [0x00007FF754195580]\n\t(No symbol) [0x00007FF754184A1F]\n\tBaseThreadInitThunk [0x00007FFB7217257D+29]\n\tRtlUserThreadStart [0x00007FFB7338AF28+40]\n",
     "output_type": "error",
     "traceback": [
      "\u001b[1;31m---------------------------------------------------------------------------\u001b[0m",
      "\u001b[1;31mNoSuchElementException\u001b[0m                    Traceback (most recent call last)",
      "Cell \u001b[1;32mIn[18], line 3\u001b[0m\n\u001b[0;32m      1\u001b[0m time\u001b[38;5;241m.\u001b[39msleep(\u001b[38;5;241m5\u001b[39m)\n\u001b[1;32m----> 3\u001b[0m click_big_mac \u001b[38;5;241m=\u001b[39m \u001b[43mdriver\u001b[49m\u001b[38;5;241;43m.\u001b[39;49m\u001b[43mfind_element\u001b[49m\u001b[43m(\u001b[49m\u001b[43mBy\u001b[49m\u001b[38;5;241;43m.\u001b[39;49m\u001b[43mXPATH\u001b[49m\u001b[43m,\u001b[49m\u001b[43m \u001b[49m\u001b[38;5;124;43m\"\u001b[39;49m\u001b[38;5;124;43m//*[@id=\u001b[39;49m\u001b[38;5;124;43m'\u001b[39;49m\u001b[38;5;124;43m__next\u001b[39;49m\u001b[38;5;124;43m'\u001b[39;49m\u001b[38;5;124;43m]/div[1]/main/div[1]/div/div[2]/div/div[7]/ul/li/div/a\u001b[39;49m\u001b[38;5;124;43m\"\u001b[39;49m\u001b[43m)\u001b[49m\n\u001b[0;32m      4\u001b[0m click_big_mac\u001b[38;5;241m.\u001b[39mclick()\n",
      "File \u001b[1;32mc:\\Users\\ariva\\Documents\\Projetos\\testes_selenium_faculdade\\venv\\Lib\\site-packages\\selenium\\webdriver\\remote\\webdriver.py:748\u001b[0m, in \u001b[0;36mWebDriver.find_element\u001b[1;34m(self, by, value)\u001b[0m\n\u001b[0;32m    745\u001b[0m     by \u001b[38;5;241m=\u001b[39m By\u001b[38;5;241m.\u001b[39mCSS_SELECTOR\n\u001b[0;32m    746\u001b[0m     value \u001b[38;5;241m=\u001b[39m \u001b[38;5;124mf\u001b[39m\u001b[38;5;124m'\u001b[39m\u001b[38;5;124m[name=\u001b[39m\u001b[38;5;124m\"\u001b[39m\u001b[38;5;132;01m{\u001b[39;00mvalue\u001b[38;5;132;01m}\u001b[39;00m\u001b[38;5;124m\"\u001b[39m\u001b[38;5;124m]\u001b[39m\u001b[38;5;124m'\u001b[39m\n\u001b[1;32m--> 748\u001b[0m \u001b[38;5;28;01mreturn\u001b[39;00m \u001b[38;5;28;43mself\u001b[39;49m\u001b[38;5;241;43m.\u001b[39;49m\u001b[43mexecute\u001b[49m\u001b[43m(\u001b[49m\u001b[43mCommand\u001b[49m\u001b[38;5;241;43m.\u001b[39;49m\u001b[43mFIND_ELEMENT\u001b[49m\u001b[43m,\u001b[49m\u001b[43m \u001b[49m\u001b[43m{\u001b[49m\u001b[38;5;124;43m\"\u001b[39;49m\u001b[38;5;124;43musing\u001b[39;49m\u001b[38;5;124;43m\"\u001b[39;49m\u001b[43m:\u001b[49m\u001b[43m \u001b[49m\u001b[43mby\u001b[49m\u001b[43m,\u001b[49m\u001b[43m \u001b[49m\u001b[38;5;124;43m\"\u001b[39;49m\u001b[38;5;124;43mvalue\u001b[39;49m\u001b[38;5;124;43m\"\u001b[39;49m\u001b[43m:\u001b[49m\u001b[43m \u001b[49m\u001b[43mvalue\u001b[49m\u001b[43m}\u001b[49m\u001b[43m)\u001b[49m[\u001b[38;5;124m\"\u001b[39m\u001b[38;5;124mvalue\u001b[39m\u001b[38;5;124m\"\u001b[39m]\n",
      "File \u001b[1;32mc:\\Users\\ariva\\Documents\\Projetos\\testes_selenium_faculdade\\venv\\Lib\\site-packages\\selenium\\webdriver\\remote\\webdriver.py:354\u001b[0m, in \u001b[0;36mWebDriver.execute\u001b[1;34m(self, driver_command, params)\u001b[0m\n\u001b[0;32m    352\u001b[0m response \u001b[38;5;241m=\u001b[39m \u001b[38;5;28mself\u001b[39m\u001b[38;5;241m.\u001b[39mcommand_executor\u001b[38;5;241m.\u001b[39mexecute(driver_command, params)\n\u001b[0;32m    353\u001b[0m \u001b[38;5;28;01mif\u001b[39;00m response:\n\u001b[1;32m--> 354\u001b[0m     \u001b[38;5;28;43mself\u001b[39;49m\u001b[38;5;241;43m.\u001b[39;49m\u001b[43merror_handler\u001b[49m\u001b[38;5;241;43m.\u001b[39;49m\u001b[43mcheck_response\u001b[49m\u001b[43m(\u001b[49m\u001b[43mresponse\u001b[49m\u001b[43m)\u001b[49m\n\u001b[0;32m    355\u001b[0m     response[\u001b[38;5;124m\"\u001b[39m\u001b[38;5;124mvalue\u001b[39m\u001b[38;5;124m\"\u001b[39m] \u001b[38;5;241m=\u001b[39m \u001b[38;5;28mself\u001b[39m\u001b[38;5;241m.\u001b[39m_unwrap_value(response\u001b[38;5;241m.\u001b[39mget(\u001b[38;5;124m\"\u001b[39m\u001b[38;5;124mvalue\u001b[39m\u001b[38;5;124m\"\u001b[39m, \u001b[38;5;28;01mNone\u001b[39;00m))\n\u001b[0;32m    356\u001b[0m     \u001b[38;5;28;01mreturn\u001b[39;00m response\n",
      "File \u001b[1;32mc:\\Users\\ariva\\Documents\\Projetos\\testes_selenium_faculdade\\venv\\Lib\\site-packages\\selenium\\webdriver\\remote\\errorhandler.py:229\u001b[0m, in \u001b[0;36mErrorHandler.check_response\u001b[1;34m(self, response)\u001b[0m\n\u001b[0;32m    227\u001b[0m         alert_text \u001b[38;5;241m=\u001b[39m value[\u001b[38;5;124m\"\u001b[39m\u001b[38;5;124malert\u001b[39m\u001b[38;5;124m\"\u001b[39m]\u001b[38;5;241m.\u001b[39mget(\u001b[38;5;124m\"\u001b[39m\u001b[38;5;124mtext\u001b[39m\u001b[38;5;124m\"\u001b[39m)\n\u001b[0;32m    228\u001b[0m     \u001b[38;5;28;01mraise\u001b[39;00m exception_class(message, screen, stacktrace, alert_text)  \u001b[38;5;66;03m# type: ignore[call-arg]  # mypy is not smart enough here\u001b[39;00m\n\u001b[1;32m--> 229\u001b[0m \u001b[38;5;28;01mraise\u001b[39;00m exception_class(message, screen, stacktrace)\n",
      "\u001b[1;31mNoSuchElementException\u001b[0m: Message: no such element: Unable to locate element: {\"method\":\"xpath\",\"selector\":\"//*[@id='__next']/div[1]/main/div[1]/div/div[2]/div/div[7]/ul/li/div/a\"}\n  (Session info: chrome=128.0.6613.120); For documentation on this error, please visit: https://www.selenium.dev/documentation/webdriver/troubleshooting/errors#no-such-element-exception\nStacktrace:\n\tGetHandleVerifier [0x00007FF75421B5D2+29090]\n\t(No symbol) [0x00007FF75418E689]\n\t(No symbol) [0x00007FF75404B1CA]\n\t(No symbol) [0x00007FF75409EFD7]\n\t(No symbol) [0x00007FF75409F22C]\n\t(No symbol) [0x00007FF7540E97F7]\n\t(No symbol) [0x00007FF7540C672F]\n\t(No symbol) [0x00007FF7540E65D9]\n\t(No symbol) [0x00007FF7540C6493]\n\t(No symbol) [0x00007FF7540909B1]\n\t(No symbol) [0x00007FF754091B11]\n\tGetHandleVerifier [0x00007FF754538C5D+3295277]\n\tGetHandleVerifier [0x00007FF754584843+3605523]\n\tGetHandleVerifier [0x00007FF75457A707+3564247]\n\tGetHandleVerifier [0x00007FF7542D6EB6+797318]\n\t(No symbol) [0x00007FF75419980F]\n\t(No symbol) [0x00007FF7541953F4]\n\t(No symbol) [0x00007FF754195580]\n\t(No symbol) [0x00007FF754184A1F]\n\tBaseThreadInitThunk [0x00007FFB7217257D+29]\n\tRtlUserThreadStart [0x00007FFB7338AF28+40]\n"
     ]
    }
   ],
   "source": [
    "time.sleep(5)\n",
    "\n",
    "click_big_mac = driver.find_element(By.XPATH, \"//*[@id='__next']/div[1]/main/div[1]/div/div[2]/div/div[7]/ul/li/div/a\")\n",
    "click_big_mac.click()"
   ]
  },
  {
   "cell_type": "code",
   "execution_count": null,
   "metadata": {},
   "outputs": [],
   "source": [
    "time.sleep(5)\n",
    "\n",
    "click_botao_adicionar = driver.find_element(By.CLASS_NAME, \"dish-action__add-button\")\n",
    "click_botao_adicionar.click()"
   ]
  },
  {
   "cell_type": "code",
   "execution_count": null,
   "metadata": {},
   "outputs": [],
   "source": [
    "time.sleep(10)\n",
    "\n",
    "driver.quit()"
   ]
  }
 ],
 "metadata": {
  "kernelspec": {
   "display_name": "venv",
   "language": "python",
   "name": "python3"
  },
  "language_info": {
   "codemirror_mode": {
    "name": "ipython",
    "version": 3
   },
   "file_extension": ".py",
   "mimetype": "text/x-python",
   "name": "python",
   "nbconvert_exporter": "python",
   "pygments_lexer": "ipython3",
   "version": "3.12.0"
  }
 },
 "nbformat": 4,
 "nbformat_minor": 2
}
